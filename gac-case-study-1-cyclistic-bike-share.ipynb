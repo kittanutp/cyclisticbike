{
 "cells": [
  {
   "cell_type": "markdown",
   "id": "cfa7437f",
   "metadata": {
    "papermill": {
     "duration": 0.004723,
     "end_time": "2022-05-07T04:39:29.272171",
     "exception": false,
     "start_time": "2022-05-07T04:39:29.267448",
     "status": "completed"
    },
    "tags": []
   },
   "source": [
    "For background, this analysis will try to figure out difference between  2 type of rental bike service which are \n",
    "member - considered as membership\n",
    "causal - considered as one time user\n",
    "The data is provided by Motivate International Inc.\n",
    "\n",
    "The keys target is to find recommendation or insight for marketing to use for increasing conversion rate of casual user into member user.\n",
    "\n",
    "Just to note for people who enter this analysis : \n",
    "since this is my first R analysis on the datasets, most of the code is not my original code but i try to figure out how it work on everyline. And also analysis resuslt is  my genuine insight from the data.\n",
    "\n",
    "And for fellow google analystic learner, If you see this, these guy's analysis are worth checking: \n",
    "\n",
    "https://www.kaggle.com/code/jhelisonuchoa/google-data-analytics-capstone-case-study-1\n",
    "\n",
    "https://www.kaggle.com/code/julenaranguren/cyclistic-bike-share-a-case-study/notebook\n"
   ]
  },
  {
   "cell_type": "code",
   "execution_count": 1,
   "id": "fbae6e40",
   "metadata": {
    "execution": {
     "iopub.execute_input": "2022-05-07T04:39:29.284601Z",
     "iopub.status.busy": "2022-05-07T04:39:29.282274Z",
     "iopub.status.idle": "2022-05-07T04:39:30.638692Z",
     "shell.execute_reply": "2022-05-07T04:39:30.636872Z"
    },
    "papermill": {
     "duration": 1.364948,
     "end_time": "2022-05-07T04:39:30.641044",
     "exception": false,
     "start_time": "2022-05-07T04:39:29.276096",
     "status": "completed"
    },
    "tags": []
   },
   "outputs": [
    {
     "name": "stderr",
     "output_type": "stream",
     "text": [
      "── \u001b[1mAttaching packages\u001b[22m ─────────────────────────────────────── tidyverse 1.3.1 ──\n",
      "\n",
      "\u001b[32m✔\u001b[39m \u001b[34mggplot2\u001b[39m 3.3.5     \u001b[32m✔\u001b[39m \u001b[34mpurrr  \u001b[39m 0.3.4\n",
      "\u001b[32m✔\u001b[39m \u001b[34mtibble \u001b[39m 3.1.6     \u001b[32m✔\u001b[39m \u001b[34mdplyr  \u001b[39m 1.0.8\n",
      "\u001b[32m✔\u001b[39m \u001b[34mtidyr  \u001b[39m 1.2.0     \u001b[32m✔\u001b[39m \u001b[34mstringr\u001b[39m 1.4.0\n",
      "\u001b[32m✔\u001b[39m \u001b[34mreadr  \u001b[39m 2.1.2     \u001b[32m✔\u001b[39m \u001b[34mforcats\u001b[39m 0.5.1\n",
      "\n",
      "── \u001b[1mConflicts\u001b[22m ────────────────────────────────────────── tidyverse_conflicts() ──\n",
      "\u001b[31m✖\u001b[39m \u001b[34mdplyr\u001b[39m::\u001b[32mfilter()\u001b[39m masks \u001b[34mstats\u001b[39m::filter()\n",
      "\u001b[31m✖\u001b[39m \u001b[34mdplyr\u001b[39m::\u001b[32mlag()\u001b[39m    masks \u001b[34mstats\u001b[39m::lag()\n",
      "\n",
      "\n",
      "Attaching package: ‘lubridate’\n",
      "\n",
      "\n",
      "The following objects are masked from ‘package:base’:\n",
      "\n",
      "    date, intersect, setdiff, union\n",
      "\n",
      "\n"
     ]
    }
   ],
   "source": [
    "#Set up Phase\n",
    "\n",
    "library(tidyverse)\n",
    "library(readr)\n",
    "library(lubridate)\n",
    "library(ggplot2)"
   ]
  },
  {
   "cell_type": "code",
   "execution_count": 2,
   "id": "6075b7cd",
   "metadata": {
    "execution": {
     "iopub.execute_input": "2022-05-07T04:39:30.683777Z",
     "iopub.status.busy": "2022-05-07T04:39:30.651948Z",
     "iopub.status.idle": "2022-05-07T04:40:21.738536Z",
     "shell.execute_reply": "2022-05-07T04:40:21.736700Z"
    },
    "papermill": {
     "duration": 51.097081,
     "end_time": "2022-05-07T04:40:21.742724",
     "exception": false,
     "start_time": "2022-05-07T04:39:30.645643",
     "status": "completed"
    },
    "tags": []
   },
   "outputs": [],
   "source": [
    "#Preparation\n",
    "\n",
    "Trip_raw_2020_Q1 <- read.csv(\"../input/cyclistic-bikeshare-analysis-case-study/Divvy_Trips_2020_Q1.csv\")\n",
    "Trip_raw_2019_Q4 <- read.csv(\"../input/cyclistic-bikeshare-analysis-case-study/Divvy_Trips_2019_Q4.csv\")\n",
    "Trip_raw_2019_Q3 <- read.csv(\"../input/cyclistic-bikeshare-analysis-case-study/Divvy_Trips_2019_Q3.csv\")\n",
    "Trip_raw_2019_Q2 <- read.csv(\"../input/cyclistic-bikeshare-analysis-case-study/Divvy_Trips_2019_Q2.csv\")"
   ]
  },
  {
   "cell_type": "code",
   "execution_count": 3,
   "id": "30d2c7f6",
   "metadata": {
    "execution": {
     "iopub.execute_input": "2022-05-07T04:40:21.755851Z",
     "iopub.status.busy": "2022-05-07T04:40:21.754365Z",
     "iopub.status.idle": "2022-05-07T04:40:21.789878Z",
     "shell.execute_reply": "2022-05-07T04:40:21.788193Z"
    },
    "papermill": {
     "duration": 0.043715,
     "end_time": "2022-05-07T04:40:21.792159",
     "exception": false,
     "start_time": "2022-05-07T04:40:21.748444",
     "status": "completed"
    },
    "tags": []
   },
   "outputs": [
    {
     "data": {
      "text/html": [
       "<style>\n",
       ".list-inline {list-style: none; margin:0; padding: 0}\n",
       ".list-inline>li {display: inline-block}\n",
       ".list-inline>li:not(:last-child)::after {content: \"\\00b7\"; padding: 0 .5ex}\n",
       "</style>\n",
       "<ol class=list-inline><li>'ride_id'</li><li>'rideable_type'</li><li>'started_at'</li><li>'ended_at'</li><li>'start_station_name'</li><li>'start_station_id'</li><li>'end_station_name'</li><li>'end_station_id'</li><li>'start_lat'</li><li>'start_lng'</li><li>'end_lat'</li><li>'end_lng'</li><li>'member_casual'</li></ol>\n"
      ],
      "text/latex": [
       "\\begin{enumerate*}\n",
       "\\item 'ride\\_id'\n",
       "\\item 'rideable\\_type'\n",
       "\\item 'started\\_at'\n",
       "\\item 'ended\\_at'\n",
       "\\item 'start\\_station\\_name'\n",
       "\\item 'start\\_station\\_id'\n",
       "\\item 'end\\_station\\_name'\n",
       "\\item 'end\\_station\\_id'\n",
       "\\item 'start\\_lat'\n",
       "\\item 'start\\_lng'\n",
       "\\item 'end\\_lat'\n",
       "\\item 'end\\_lng'\n",
       "\\item 'member\\_casual'\n",
       "\\end{enumerate*}\n"
      ],
      "text/markdown": [
       "1. 'ride_id'\n",
       "2. 'rideable_type'\n",
       "3. 'started_at'\n",
       "4. 'ended_at'\n",
       "5. 'start_station_name'\n",
       "6. 'start_station_id'\n",
       "7. 'end_station_name'\n",
       "8. 'end_station_id'\n",
       "9. 'start_lat'\n",
       "10. 'start_lng'\n",
       "11. 'end_lat'\n",
       "12. 'end_lng'\n",
       "13. 'member_casual'\n",
       "\n",
       "\n"
      ],
      "text/plain": [
       " [1] \"ride_id\"            \"rideable_type\"      \"started_at\"        \n",
       " [4] \"ended_at\"           \"start_station_name\" \"start_station_id\"  \n",
       " [7] \"end_station_name\"   \"end_station_id\"     \"start_lat\"         \n",
       "[10] \"start_lng\"          \"end_lat\"            \"end_lng\"           \n",
       "[13] \"member_casual\"     "
      ]
     },
     "metadata": {},
     "output_type": "display_data"
    },
    {
     "data": {
      "text/html": [
       "<style>\n",
       ".list-inline {list-style: none; margin:0; padding: 0}\n",
       ".list-inline>li {display: inline-block}\n",
       ".list-inline>li:not(:last-child)::after {content: \"\\00b7\"; padding: 0 .5ex}\n",
       "</style>\n",
       "<ol class=list-inline><li>'trip_id'</li><li>'start_time'</li><li>'end_time'</li><li>'bikeid'</li><li>'tripduration'</li><li>'from_station_id'</li><li>'from_station_name'</li><li>'to_station_id'</li><li>'to_station_name'</li><li>'usertype'</li><li>'gender'</li><li>'birthyear'</li></ol>\n"
      ],
      "text/latex": [
       "\\begin{enumerate*}\n",
       "\\item 'trip\\_id'\n",
       "\\item 'start\\_time'\n",
       "\\item 'end\\_time'\n",
       "\\item 'bikeid'\n",
       "\\item 'tripduration'\n",
       "\\item 'from\\_station\\_id'\n",
       "\\item 'from\\_station\\_name'\n",
       "\\item 'to\\_station\\_id'\n",
       "\\item 'to\\_station\\_name'\n",
       "\\item 'usertype'\n",
       "\\item 'gender'\n",
       "\\item 'birthyear'\n",
       "\\end{enumerate*}\n"
      ],
      "text/markdown": [
       "1. 'trip_id'\n",
       "2. 'start_time'\n",
       "3. 'end_time'\n",
       "4. 'bikeid'\n",
       "5. 'tripduration'\n",
       "6. 'from_station_id'\n",
       "7. 'from_station_name'\n",
       "8. 'to_station_id'\n",
       "9. 'to_station_name'\n",
       "10. 'usertype'\n",
       "11. 'gender'\n",
       "12. 'birthyear'\n",
       "\n",
       "\n"
      ],
      "text/plain": [
       " [1] \"trip_id\"           \"start_time\"        \"end_time\"         \n",
       " [4] \"bikeid\"            \"tripduration\"      \"from_station_id\"  \n",
       " [7] \"from_station_name\" \"to_station_id\"     \"to_station_name\"  \n",
       "[10] \"usertype\"          \"gender\"            \"birthyear\"        "
      ]
     },
     "metadata": {},
     "output_type": "display_data"
    },
    {
     "data": {
      "text/html": [
       "<style>\n",
       ".list-inline {list-style: none; margin:0; padding: 0}\n",
       ".list-inline>li {display: inline-block}\n",
       ".list-inline>li:not(:last-child)::after {content: \"\\00b7\"; padding: 0 .5ex}\n",
       "</style>\n",
       "<ol class=list-inline><li>'trip_id'</li><li>'start_time'</li><li>'end_time'</li><li>'bikeid'</li><li>'tripduration'</li><li>'from_station_id'</li><li>'from_station_name'</li><li>'to_station_id'</li><li>'to_station_name'</li><li>'usertype'</li><li>'gender'</li><li>'birthyear'</li></ol>\n"
      ],
      "text/latex": [
       "\\begin{enumerate*}\n",
       "\\item 'trip\\_id'\n",
       "\\item 'start\\_time'\n",
       "\\item 'end\\_time'\n",
       "\\item 'bikeid'\n",
       "\\item 'tripduration'\n",
       "\\item 'from\\_station\\_id'\n",
       "\\item 'from\\_station\\_name'\n",
       "\\item 'to\\_station\\_id'\n",
       "\\item 'to\\_station\\_name'\n",
       "\\item 'usertype'\n",
       "\\item 'gender'\n",
       "\\item 'birthyear'\n",
       "\\end{enumerate*}\n"
      ],
      "text/markdown": [
       "1. 'trip_id'\n",
       "2. 'start_time'\n",
       "3. 'end_time'\n",
       "4. 'bikeid'\n",
       "5. 'tripduration'\n",
       "6. 'from_station_id'\n",
       "7. 'from_station_name'\n",
       "8. 'to_station_id'\n",
       "9. 'to_station_name'\n",
       "10. 'usertype'\n",
       "11. 'gender'\n",
       "12. 'birthyear'\n",
       "\n",
       "\n"
      ],
      "text/plain": [
       " [1] \"trip_id\"           \"start_time\"        \"end_time\"         \n",
       " [4] \"bikeid\"            \"tripduration\"      \"from_station_id\"  \n",
       " [7] \"from_station_name\" \"to_station_id\"     \"to_station_name\"  \n",
       "[10] \"usertype\"          \"gender\"            \"birthyear\"        "
      ]
     },
     "metadata": {},
     "output_type": "display_data"
    },
    {
     "data": {
      "text/html": [
       "<style>\n",
       ".list-inline {list-style: none; margin:0; padding: 0}\n",
       ".list-inline>li {display: inline-block}\n",
       ".list-inline>li:not(:last-child)::after {content: \"\\00b7\"; padding: 0 .5ex}\n",
       "</style>\n",
       "<ol class=list-inline><li>'X01...Rental.Details.Rental.ID'</li><li>'X01...Rental.Details.Local.Start.Time'</li><li>'X01...Rental.Details.Local.End.Time'</li><li>'X01...Rental.Details.Bike.ID'</li><li>'X01...Rental.Details.Duration.In.Seconds.Uncapped'</li><li>'X03...Rental.Start.Station.ID'</li><li>'X03...Rental.Start.Station.Name'</li><li>'X02...Rental.End.Station.ID'</li><li>'X02...Rental.End.Station.Name'</li><li>'User.Type'</li><li>'Member.Gender'</li><li>'X05...Member.Details.Member.Birthday.Year'</li></ol>\n"
      ],
      "text/latex": [
       "\\begin{enumerate*}\n",
       "\\item 'X01...Rental.Details.Rental.ID'\n",
       "\\item 'X01...Rental.Details.Local.Start.Time'\n",
       "\\item 'X01...Rental.Details.Local.End.Time'\n",
       "\\item 'X01...Rental.Details.Bike.ID'\n",
       "\\item 'X01...Rental.Details.Duration.In.Seconds.Uncapped'\n",
       "\\item 'X03...Rental.Start.Station.ID'\n",
       "\\item 'X03...Rental.Start.Station.Name'\n",
       "\\item 'X02...Rental.End.Station.ID'\n",
       "\\item 'X02...Rental.End.Station.Name'\n",
       "\\item 'User.Type'\n",
       "\\item 'Member.Gender'\n",
       "\\item 'X05...Member.Details.Member.Birthday.Year'\n",
       "\\end{enumerate*}\n"
      ],
      "text/markdown": [
       "1. 'X01...Rental.Details.Rental.ID'\n",
       "2. 'X01...Rental.Details.Local.Start.Time'\n",
       "3. 'X01...Rental.Details.Local.End.Time'\n",
       "4. 'X01...Rental.Details.Bike.ID'\n",
       "5. 'X01...Rental.Details.Duration.In.Seconds.Uncapped'\n",
       "6. 'X03...Rental.Start.Station.ID'\n",
       "7. 'X03...Rental.Start.Station.Name'\n",
       "8. 'X02...Rental.End.Station.ID'\n",
       "9. 'X02...Rental.End.Station.Name'\n",
       "10. 'User.Type'\n",
       "11. 'Member.Gender'\n",
       "12. 'X05...Member.Details.Member.Birthday.Year'\n",
       "\n",
       "\n"
      ],
      "text/plain": [
       " [1] \"X01...Rental.Details.Rental.ID\"                   \n",
       " [2] \"X01...Rental.Details.Local.Start.Time\"            \n",
       " [3] \"X01...Rental.Details.Local.End.Time\"              \n",
       " [4] \"X01...Rental.Details.Bike.ID\"                     \n",
       " [5] \"X01...Rental.Details.Duration.In.Seconds.Uncapped\"\n",
       " [6] \"X03...Rental.Start.Station.ID\"                    \n",
       " [7] \"X03...Rental.Start.Station.Name\"                  \n",
       " [8] \"X02...Rental.End.Station.ID\"                      \n",
       " [9] \"X02...Rental.End.Station.Name\"                    \n",
       "[10] \"User.Type\"                                        \n",
       "[11] \"Member.Gender\"                                    \n",
       "[12] \"X05...Member.Details.Member.Birthday.Year\"        "
      ]
     },
     "metadata": {},
     "output_type": "display_data"
    }
   ],
   "source": [
    "#Check for table \n",
    "\n",
    "colnames(Trip_raw_2020_Q1)\n",
    "colnames(Trip_raw_2019_Q4)\n",
    "colnames(Trip_raw_2019_Q3)\n",
    "colnames(Trip_raw_2019_Q2)"
   ]
  },
  {
   "cell_type": "code",
   "execution_count": 4,
   "id": "f7978e18",
   "metadata": {
    "execution": {
     "iopub.execute_input": "2022-05-07T04:40:21.806528Z",
     "iopub.status.busy": "2022-05-07T04:40:21.804923Z",
     "iopub.status.idle": "2022-05-07T04:40:21.880903Z",
     "shell.execute_reply": "2022-05-07T04:40:21.878991Z"
    },
    "papermill": {
     "duration": 0.085799,
     "end_time": "2022-05-07T04:40:21.883567",
     "exception": false,
     "start_time": "2022-05-07T04:40:21.797768",
     "status": "completed"
    },
    "tags": []
   },
   "outputs": [],
   "source": [
    "##Change header : To follow 2020\n",
    "q4_2019 <- rename(Trip_raw_2019_Q4\n",
    "                   ,ride_id = trip_id\n",
    "                   ,rideable_type = bikeid \n",
    "                   ,started_at = start_time  \n",
    "                   ,ended_at = end_time  \n",
    "                   ,start_station_name = from_station_name \n",
    "                   ,start_station_id = from_station_id \n",
    "                   ,end_station_name = to_station_name \n",
    "                   ,end_station_id = to_station_id \n",
    "                   ,member_casual = usertype)\n",
    "\n",
    "q3_2019 <- rename(Trip_raw_2019_Q3\n",
    "                   ,ride_id = trip_id\n",
    "                   ,rideable_type = bikeid \n",
    "                   ,started_at = start_time  \n",
    "                   ,ended_at = end_time  \n",
    "                   ,start_station_name = from_station_name \n",
    "                   ,start_station_id = from_station_id \n",
    "                   ,end_station_name = to_station_name \n",
    "                   ,end_station_id = to_station_id \n",
    "                   ,member_casual = usertype)\n",
    "\n",
    "q2_2019 <- rename(Trip_raw_2019_Q2\n",
    "                   ,ride_id = X01...Rental.Details.Rental.ID\n",
    "                   ,rideable_type = X01...Rental.Details.Bike.ID\n",
    "                   ,started_at = X01...Rental.Details.Local.Start.Time  \n",
    "                   ,ended_at = X01...Rental.Details.Local.End.Time  \n",
    "                   ,start_station_name = X03...Rental.Start.Station.Name\n",
    "                   ,start_station_id = X03...Rental.Start.Station.ID\n",
    "                   ,end_station_name = X02...Rental.End.Station.Name\n",
    "                   ,end_station_id = X02...Rental.End.Station.ID\n",
    "                   ,member_casual = User.Type)\n",
    "q1_2020 <- Trip_raw_2020_Q1"
   ]
  },
  {
   "cell_type": "code",
   "execution_count": 5,
   "id": "8040aa24",
   "metadata": {
    "execution": {
     "iopub.execute_input": "2022-05-07T04:40:21.897668Z",
     "iopub.status.busy": "2022-05-07T04:40:21.896048Z",
     "iopub.status.idle": "2022-05-07T04:40:34.393506Z",
     "shell.execute_reply": "2022-05-07T04:40:34.391653Z"
    },
    "papermill": {
     "duration": 12.506925,
     "end_time": "2022-05-07T04:40:34.395926",
     "exception": false,
     "start_time": "2022-05-07T04:40:21.889001",
     "status": "completed"
    },
    "tags": []
   },
   "outputs": [],
   "source": [
    "##Change data type in case of ride_id of old year is integer form.\n",
    "\n",
    "q4_2019 <-  mutate(q4_2019, ride_id = as.character(ride_id)\n",
    "                   ,rideable_type = as.character(rideable_type)) \n",
    "q3_2019 <-  mutate(q3_2019, ride_id = as.character(ride_id)\n",
    "                   ,rideable_type = as.character(rideable_type)) \n",
    "q2_2019 <-  mutate(q2_2019, ride_id = as.character(ride_id)\n",
    "                   ,rideable_type = as.character(rideable_type)) \n",
    "##Total files\n",
    "all_trips <- bind_rows(q2_2019, q3_2019, q4_2019, q1_2020)"
   ]
  },
  {
   "cell_type": "code",
   "execution_count": 6,
   "id": "3ed8aa01",
   "metadata": {
    "execution": {
     "iopub.execute_input": "2022-05-07T04:40:34.409932Z",
     "iopub.status.busy": "2022-05-07T04:40:34.408415Z",
     "iopub.status.idle": "2022-05-07T04:40:38.939132Z",
     "shell.execute_reply": "2022-05-07T04:40:38.937248Z"
    },
    "papermill": {
     "duration": 4.541388,
     "end_time": "2022-05-07T04:40:38.942491",
     "exception": false,
     "start_time": "2022-05-07T04:40:34.401103",
     "status": "completed"
    },
    "tags": []
   },
   "outputs": [
    {
     "data": {
      "text/html": [
       "<style>\n",
       ".list-inline {list-style: none; margin:0; padding: 0}\n",
       ".list-inline>li {display: inline-block}\n",
       ".list-inline>li:not(:last-child)::after {content: \"\\00b7\"; padding: 0 .5ex}\n",
       "</style>\n",
       "<ol class=list-inline><li>'ride_id'</li><li>'started_at'</li><li>'ended_at'</li><li>'rideable_type'</li><li>'X01...Rental.Details.Duration.In.Seconds.Uncapped'</li><li>'start_station_id'</li><li>'start_station_name'</li><li>'end_station_id'</li><li>'end_station_name'</li><li>'member_casual'</li><li>'Member.Gender'</li><li>'X05...Member.Details.Member.Birthday.Year'</li><li>'tripduration'</li><li>'gender'</li><li>'birthyear'</li><li>'start_lat'</li><li>'start_lng'</li><li>'end_lat'</li><li>'end_lng'</li></ol>\n"
      ],
      "text/latex": [
       "\\begin{enumerate*}\n",
       "\\item 'ride\\_id'\n",
       "\\item 'started\\_at'\n",
       "\\item 'ended\\_at'\n",
       "\\item 'rideable\\_type'\n",
       "\\item 'X01...Rental.Details.Duration.In.Seconds.Uncapped'\n",
       "\\item 'start\\_station\\_id'\n",
       "\\item 'start\\_station\\_name'\n",
       "\\item 'end\\_station\\_id'\n",
       "\\item 'end\\_station\\_name'\n",
       "\\item 'member\\_casual'\n",
       "\\item 'Member.Gender'\n",
       "\\item 'X05...Member.Details.Member.Birthday.Year'\n",
       "\\item 'tripduration'\n",
       "\\item 'gender'\n",
       "\\item 'birthyear'\n",
       "\\item 'start\\_lat'\n",
       "\\item 'start\\_lng'\n",
       "\\item 'end\\_lat'\n",
       "\\item 'end\\_lng'\n",
       "\\end{enumerate*}\n"
      ],
      "text/markdown": [
       "1. 'ride_id'\n",
       "2. 'started_at'\n",
       "3. 'ended_at'\n",
       "4. 'rideable_type'\n",
       "5. 'X01...Rental.Details.Duration.In.Seconds.Uncapped'\n",
       "6. 'start_station_id'\n",
       "7. 'start_station_name'\n",
       "8. 'end_station_id'\n",
       "9. 'end_station_name'\n",
       "10. 'member_casual'\n",
       "11. 'Member.Gender'\n",
       "12. 'X05...Member.Details.Member.Birthday.Year'\n",
       "13. 'tripduration'\n",
       "14. 'gender'\n",
       "15. 'birthyear'\n",
       "16. 'start_lat'\n",
       "17. 'start_lng'\n",
       "18. 'end_lat'\n",
       "19. 'end_lng'\n",
       "\n",
       "\n"
      ],
      "text/plain": [
       " [1] \"ride_id\"                                          \n",
       " [2] \"started_at\"                                       \n",
       " [3] \"ended_at\"                                         \n",
       " [4] \"rideable_type\"                                    \n",
       " [5] \"X01...Rental.Details.Duration.In.Seconds.Uncapped\"\n",
       " [6] \"start_station_id\"                                 \n",
       " [7] \"start_station_name\"                               \n",
       " [8] \"end_station_id\"                                   \n",
       " [9] \"end_station_name\"                                 \n",
       "[10] \"member_casual\"                                    \n",
       "[11] \"Member.Gender\"                                    \n",
       "[12] \"X05...Member.Details.Member.Birthday.Year\"        \n",
       "[13] \"tripduration\"                                     \n",
       "[14] \"gender\"                                           \n",
       "[15] \"birthyear\"                                        \n",
       "[16] \"start_lat\"                                        \n",
       "[17] \"start_lng\"                                        \n",
       "[18] \"end_lat\"                                          \n",
       "[19] \"end_lng\"                                          "
      ]
     },
     "metadata": {},
     "output_type": "display_data"
    },
    {
     "data": {
      "text/plain": [
       "\n",
       "    casual   Customer     member Subscriber \n",
       "     48480     857474     378407    2595461 "
      ]
     },
     "metadata": {},
     "output_type": "display_data"
    },
    {
     "data": {
      "text/plain": [
       "\n",
       " casual  member \n",
       " 905954 2973868 "
      ]
     },
     "metadata": {},
     "output_type": "display_data"
    }
   ],
   "source": [
    "##Clean total files\n",
    "colnames(all_trips)\n",
    "all_trips <- all_trips %>%  \n",
    "  select(-c(X01...Rental.Details.Duration.In.Seconds.Uncapped, Member.Gender, X05...Member.Details.Member.Birthday.Year, tripduration, gender, birthyear, start_lat, start_lng, end_lat, end_lng))\n",
    "\n",
    "table(all_trips$member_casual)\n",
    "##Classified membership\n",
    "all_trips <-  all_trips %>% \n",
    "  mutate(member_casual = recode(member_casual\n",
    "                                ,\"Subscriber\" = \"member\"\n",
    "                                ,\"Customer\" = \"casual\"))\n",
    "table(all_trips$member_casual)"
   ]
  },
  {
   "cell_type": "code",
   "execution_count": 7,
   "id": "cbaf2806",
   "metadata": {
    "execution": {
     "iopub.execute_input": "2022-05-07T04:40:38.958659Z",
     "iopub.status.busy": "2022-05-07T04:40:38.956976Z",
     "iopub.status.idle": "2022-05-07T04:41:22.696800Z",
     "shell.execute_reply": "2022-05-07T04:41:22.694857Z"
    },
    "papermill": {
     "duration": 43.749845,
     "end_time": "2022-05-07T04:41:22.699445",
     "exception": false,
     "start_time": "2022-05-07T04:40:38.949600",
     "status": "completed"
    },
    "tags": []
   },
   "outputs": [],
   "source": [
    "##Store Dates\n",
    "all_trips$date <- as.Date(all_trips$started_at) #The default format is yyyy-mm-dd\n",
    "all_trips$month <- format(as.Date(all_trips$date), \"%m\")\n",
    "all_trips$day <- format(as.Date(all_trips$date), \"%d\")\n",
    "all_trips$year <- format(as.Date(all_trips$date), \"%Y\")\n",
    "all_trips$day_of_week <- format(as.Date(all_trips$date), \"%A\")\n",
    "##Trip Duration\n",
    "all_trips$ride_length <- difftime(all_trips$ended_at,all_trips$started_at)\n",
    "all_trips$ride_length <- as.numeric(as.character(all_trips$ride_length))\n",
    "\n",
    "##Clean version\n",
    "all_trips_v2 <- all_trips[!(all_trips$start_station_name == \"HQ QR\" | all_trips$ride_length<0),]\n",
    "all_trips_v2 <- distinct(all_trips_v2)"
   ]
  },
  {
   "cell_type": "code",
   "execution_count": 8,
   "id": "68ba443b",
   "metadata": {
    "execution": {
     "iopub.execute_input": "2022-05-07T04:41:22.714980Z",
     "iopub.status.busy": "2022-05-07T04:41:22.713418Z",
     "iopub.status.idle": "2022-05-07T04:41:28.453178Z",
     "shell.execute_reply": "2022-05-07T04:41:28.450516Z"
    },
    "papermill": {
     "duration": 5.750911,
     "end_time": "2022-05-07T04:41:28.456277",
     "exception": false,
     "start_time": "2022-05-07T04:41:22.705366",
     "status": "completed"
    },
    "tags": []
   },
   "outputs": [
    {
     "data": {
      "text/plain": [
       "   Min. 1st Qu.  Median    Mean 3rd Qu.    Max. \n",
       "      1     412     712    1479    1289 9387024 "
      ]
     },
     "metadata": {},
     "output_type": "display_data"
    },
    {
     "name": "stdout",
     "output_type": "stream",
     "text": [
      "   all_trips_v2$member_casual all_trips_v2$day_of_week all_trips_v2$ride_length\n",
      "1                      casual                   Sunday                3581.4054\n",
      "2                      member                   Sunday                 919.9746\n",
      "3                      casual                   Monday                3372.2869\n",
      "4                      member                   Monday                 842.5726\n",
      "5                      casual                  Tuesday                3596.3599\n",
      "6                      member                  Tuesday                 826.1427\n",
      "7                      casual                Wednesday                3718.6619\n",
      "8                      member                Wednesday                 823.9996\n",
      "9                      casual                 Thursday                3682.9847\n",
      "10                     member                 Thursday                 823.9278\n",
      "11                     casual                   Friday                3773.8351\n",
      "12                     member                   Friday                 824.5305\n",
      "13                     casual                 Saturday                3331.9138\n",
      "14                     member                 Saturday                 968.9337\n"
     ]
    }
   ],
   "source": [
    "#Analyze\n",
    "summary(all_trips_v2$ride_length)\n",
    "all_trips_v2$day_of_week <- ordered(all_trips_v2$day_of_week, levels=c(\"Sunday\", \"Monday\", \"Tuesday\", \"Wednesday\", \"Thursday\", \"Friday\", \"Saturday\"))\n",
    "cp_average <- aggregate(all_trips_v2$ride_length ~ all_trips_v2$member_casual + all_trips_v2$day_of_week, FUN = mean)\n",
    "print(cp_average)"
   ]
  },
  {
   "cell_type": "code",
   "execution_count": 9,
   "id": "9357a60d",
   "metadata": {
    "execution": {
     "iopub.execute_input": "2022-05-07T04:41:28.471986Z",
     "iopub.status.busy": "2022-05-07T04:41:28.470465Z",
     "iopub.status.idle": "2022-05-07T04:41:39.621131Z",
     "shell.execute_reply": "2022-05-07T04:41:39.617845Z"
    },
    "papermill": {
     "duration": 11.162439,
     "end_time": "2022-05-07T04:41:39.624735",
     "exception": false,
     "start_time": "2022-05-07T04:41:28.462296",
     "status": "completed"
    },
    "tags": []
   },
   "outputs": [
    {
     "name": "stderr",
     "output_type": "stream",
     "text": [
      "\u001b[1m\u001b[22m`summarise()` has grouped output by 'member_casual'. You can override using the\n",
      "`.groups` argument.\n"
     ]
    },
    {
     "data": {
      "image/png": "[encoded data removed]"
     },
     "metadata": {
      "image/png": {
       "height": 420,
       "width": 420
      }
     },
     "output_type": "display_data"
    }
   ],
   "source": [
    "all_trips_v2 %>% \n",
    "  mutate(weekday = wday(started_at, label = TRUE)) %>% \n",
    "  group_by(member_casual, weekday) %>% \n",
    "  summarise(number_of_rides = n()\n",
    "            ,average_duration = mean(ride_length)) %>% \n",
    "  arrange(member_casual, weekday)  %>% \n",
    "  ggplot(aes(x = weekday, y = average_duration, fill = member_casual)) +\n",
    "  geom_col(position = \"dodge\") +\n",
    "  labs(x = \"Weekday\", y = \"Average Duration in seconds\", caption = \"Data by Motivate International Inc. \")   "
   ]
  },
  {
   "cell_type": "code",
   "execution_count": 10,
   "id": "731ba102",
   "metadata": {
    "execution": {
     "iopub.execute_input": "2022-05-07T04:41:39.641651Z",
     "iopub.status.busy": "2022-05-07T04:41:39.639943Z",
     "iopub.status.idle": "2022-05-07T04:41:50.246622Z",
     "shell.execute_reply": "2022-05-07T04:41:50.244549Z"
    },
    "papermill": {
     "duration": 10.618033,
     "end_time": "2022-05-07T04:41:50.249569",
     "exception": false,
     "start_time": "2022-05-07T04:41:39.631536",
     "status": "completed"
    },
    "tags": []
   },
   "outputs": [
    {
     "name": "stderr",
     "output_type": "stream",
     "text": [
      "\u001b[1m\u001b[22m`summarise()` has grouped output by 'member_casual'. You can override using the\n",
      "`.groups` argument.\n"
     ]
    },
    {
     "data": {
      "image/png": "[encoded data removed]"
     },
     "metadata": {
      "image/png": {
       "height": 420,
       "width": 420
      }
     },
     "output_type": "display_data"
    }
   ],
   "source": [
    "all_trips_v2 %>% \n",
    "  mutate(weekday = wday(started_at, label = TRUE)) %>% \n",
    "  group_by(member_casual, weekday) %>% \n",
    "  summarise(number_of_rides = n()\n",
    "            ,average_duration = mean(ride_length)) %>% \n",
    "  arrange(member_casual, weekday)  %>% \n",
    "  ggplot(aes(x = weekday, y = number_of_rides, fill = member_casual)) + \n",
    "  geom_col(position = \"dodge\") +\n",
    "  labs(x = \"Weekday\", y = \"Number of trips\", caption = \"Data by Motivate International Inc. \")  "
   ]
  },
  {
   "cell_type": "markdown",
   "id": "bfeacee0",
   "metadata": {
    "papermill": {
     "duration": 0.00748,
     "end_time": "2022-05-07T04:41:50.264947",
     "exception": false,
     "start_time": "2022-05-07T04:41:50.257467",
     "status": "completed"
    },
    "tags": []
   },
   "source": [
    "From analysis results, \n",
    "* The average trip duration of casual user is a lot higher than member user on everyday of the week. The meaning of this resultmight lead to difference purpose of using such as casual user tend to use bike for touring and member user tend to use bike for their daily basis.\n",
    "* The user amount of causal user are significantly increase on weekend."
   ]
  },
  {
   "cell_type": "markdown",
   "id": "3a7cf240",
   "metadata": {
    "papermill": {
     "duration": 0.0081,
     "end_time": "2022-05-07T04:41:50.280477",
     "exception": false,
     "start_time": "2022-05-07T04:41:50.272377",
     "status": "completed"
    },
    "tags": []
   },
   "source": [
    "**Futher needed analysis**\n",
    "\n",
    "How many weekend user which is one-more time user (These group can change to membership group with differenct member ship plan\n"
   ]
  },
  {
   "cell_type": "markdown",
   "id": "a9720bb9",
   "metadata": {
    "papermill": {
     "duration": 0.007622,
     "end_time": "2022-05-07T04:41:50.295992",
     "exception": false,
     "start_time": "2022-05-07T04:41:50.288370",
     "status": "completed"
    },
    "tags": []
   },
   "source": [
    "> This is end of my case study, It is pretty short due to shortage of my working time. However I am pretty enjoy this session, I hope you guys also enjoy!"
   ]
  }
 ],
 "metadata": {
  "kernelspec": {
   "display_name": "R",
   "language": "R",
   "name": "ir"
  },
  "language_info": {
   "codemirror_mode": "r",
   "file_extension": ".r",
   "mimetype": "text/x-r-source",
   "name": "R",
   "pygments_lexer": "r",
   "version": "4.0.5"
  },
  "papermill": {
   "default_parameters": {},
   "duration": 144.712136,
   "end_time": "2022-05-07T04:41:50.525306",
   "environment_variables": {},
   "exception": null,
   "input_path": "__notebook__.ipynb",
   "output_path": "__notebook__.ipynb",
   "parameters": {},
   "start_time": "2022-05-07T04:39:25.813170",
   "version": "2.3.4"
  }
 },
 "nbformat": 4,
 "nbformat_minor": 5
}
